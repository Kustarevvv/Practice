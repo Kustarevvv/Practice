{
  "nbformat": 4,
  "nbformat_minor": 0,
  "metadata": {
    "colab": {
      "provenance": [],
      "authorship_tag": "ABX9TyO+s4LAVc12LRnon5wSW0Ag",
      "include_colab_link": true
    },
    "kernelspec": {
      "name": "python3",
      "display_name": "Python 3"
    },
    "language_info": {
      "name": "python"
    }
  },
  "cells": [
    {
      "cell_type": "markdown",
      "metadata": {
        "id": "view-in-github",
        "colab_type": "text"
      },
      "source": [
        "<a href=\"https://colab.research.google.com/github/Kustarevvv/Practice/blob/main/Practice_4(17_11_2022).ipynb\" target=\"_parent\"><img src=\"https://colab.research.google.com/assets/colab-badge.svg\" alt=\"Open In Colab\"/></a>"
      ]
    },
    {
      "cell_type": "markdown",
      "source": [
        "В программе задан числовой массив произвольного размера. Используя стандартные методы сортировки выведите на экран наибольшее и наименьшее значения массива в строку через пробел."
      ],
      "metadata": {
        "id": "9Mk1Id5_Twkq"
      }
    },
    {
      "cell_type": "code",
      "source": [
        "a = [1,65,2,7,0,4536]\n",
        "\n",
        "for i in range(len(a)):\n",
        "  for j in range(i,len(a)):\n",
        "    if a[i]>a[j]:\n",
        "      a[i], a[j]=a[j], a[i]\n",
        "print(a)\n"
      ],
      "metadata": {
        "colab": {
          "base_uri": "https://localhost:8080/"
        },
        "id": "1H6gmY7hT4sI",
        "outputId": "65fea42b-bb48-46ec-f86b-e712f3169111"
      },
      "execution_count": null,
      "outputs": [
        {
          "output_type": "stream",
          "name": "stdout",
          "text": [
            "[0, 1, 2, 7, 65, 4536]\n"
          ]
        }
      ]
    },
    {
      "cell_type": "markdown",
      "source": [
        "2. Программа принимает на вход строку, состоящую из целочисленных значений разделенных пробелом и преобразует их в массив. Напишите свою функцию, которая принимает на вход в качестве аргумента массив, сортирует по возрастанию, а затем возвращает его. В качестве проверки программа сверяет результат сортировки. Подумайте, какая у вашей функции сложность в терминах O-символики. Использовать sorted() и .sort() запрещено."
      ],
      "metadata": {
        "id": "n4jHj9G7UeMV"
      }
    },
    {
      "cell_type": "code",
      "source": [
        "a = '25 21 3 4 65'\n",
        "m = a.split()\n",
        "for i in range(len(m)):\n",
        "    m[i]=int(m[i])\n",
        "\n",
        "def f(m):\n",
        "  for i in range(len(m)):\n",
        "    for j in range(i,len(m)):\n",
        "      if m[i]>m[j]:\n",
        "        m[i], m[j]=m[j], m[i]\n",
        "  return(m)\n",
        "f(m)\n",
        "\n",
        "print(m)"
      ],
      "metadata": {
        "colab": {
          "base_uri": "https://localhost:8080/"
        },
        "id": "Rk84GeQHUj0d",
        "outputId": "136c29b2-3764-4c98-aa00-c7ee5358c8a9"
      },
      "execution_count": null,
      "outputs": [
        {
          "output_type": "stream",
          "name": "stdout",
          "text": [
            "[3, 4, 21, 25, 65]\n"
          ]
        }
      ]
    },
    {
      "cell_type": "markdown",
      "source": [
        "3. Программа принимает на вход строку, состоящую из целочисленных значений разделенных пробелом и преобразует их в массив. Напишите свою функцию, которая принимает на вход в качестве аргумента массив, реализует сортировку выбором по возрастанию, а затем возвращает отсортированный массив. В качестве проверки программа сверяет результат сортировки."
      ],
      "metadata": {
        "id": "pxMWsfs7c7AK"
      }
    },
    {
      "cell_type": "code",
      "source": [
        "a = '25 21 3 4 65'\n",
        "m = a.split()\n",
        "\n",
        "def f(m):\n",
        "  for i in range(len(m)):\n",
        "    m[i]=int(m[i])\n",
        "  for j in range(len(m)):\n",
        "    x = m.index(min(m[j:]))\n",
        "    m[x],m[j]=m[j],m[x]\n",
        "  return(m)\n",
        "f(m)\n",
        "\n",
        "print(m)"
      ],
      "metadata": {
        "colab": {
          "base_uri": "https://localhost:8080/"
        },
        "id": "BJf1GwT-c9kb",
        "outputId": "161d0132-bb4d-407a-f403-a19014e294fc"
      },
      "execution_count": null,
      "outputs": [
        {
          "output_type": "stream",
          "name": "stdout",
          "text": [
            "[3, 4, 21, 25, 65]\n"
          ]
        }
      ]
    },
    {
      "cell_type": "markdown",
      "source": [
        "4. Программа принимает на вход строку, состоящую из целочисленных значений разделенных пробелом и преобразует их в массив. Напишите свою функцию, которая принимает на вход в качестве аргумента массив, реализует сортировку пузырьком по возрастанию, а затем возвращает отсортированный массив. В качестве проверки программа сверяет результат сортировки."
      ],
      "metadata": {
        "id": "dLDIwQkTfdRZ"
      }
    },
    {
      "cell_type": "code",
      "source": [
        "a = '25 21 3 4 65'\n",
        "m = a.split()\n",
        "for i in range(len(m)):\n",
        "    m[i]=int(m[i])\n",
        "\n",
        "def f(m):\n",
        "  for i in range(len(m)):\n",
        "    for j in range(i,len(m)):\n",
        "      if m[i]>m[j]:\n",
        "        m[i], m[j]=m[j], m[i]\n",
        "  return(m)\n",
        "f(m)\n",
        "\n",
        "print(m)"
      ],
      "metadata": {
        "id": "ys5WGV2AfiEO"
      },
      "execution_count": null,
      "outputs": []
    },
    {
      "cell_type": "markdown",
      "source": [
        "5. Инверсией называется пара чисел x, y, таких что x < y, при этом pos[x] > pos[y] (то есть x стоит правее y в массиве). Программа принимает на вход строку, состоящую из целочисленных значений разделенных пробелом и преобразует их в массив. Напишите свою функцию, которая принимает на вход в качестве аргумента массив, реализует подсчет количества инверсий, а затем возвращает результат подсчета. В качестве проверки программа сверяет результат сортировки."
      ],
      "metadata": {
        "id": "qe-vSDEQgrIh"
      }
    },
    {
      "cell_type": "code",
      "source": [
        "a = '25 21 3 4 65'\n",
        "m = a.split()\n",
        "for i in range(len(m)):\n",
        "    m[i]=int(m[i])\n",
        "\n",
        "def f(m):\n",
        "  c = 0\n",
        "  for i in range(len(m)):\n",
        "    for j in range(i,len(m)):\n",
        "      if m[i]>m[j]:\n",
        "        c+=1\n",
        "  return(c)\n",
        "\n",
        "print(f(m))"
      ],
      "metadata": {
        "colab": {
          "base_uri": "https://localhost:8080/"
        },
        "id": "o_pM5_wuguMe",
        "outputId": "674041c7-a6aa-4fe4-af54-50f23b3b2549"
      },
      "execution_count": null,
      "outputs": [
        {
          "output_type": "stream",
          "name": "stdout",
          "text": [
            "5\n"
          ]
        }
      ]
    },
    {
      "cell_type": "markdown",
      "source": [
        "6. В программе задан массив, состоящий из некоторого количества символьных элементов. На вход программы передается символ x. Используя линейный поиск (полный обход массива) подсчитайте количество вхождений символа x в заданный массив. Выведите результат на экран."
      ],
      "metadata": {
        "id": "L_lIuHOhiKsK"
      }
    },
    {
      "cell_type": "code",
      "source": [
        "a = ['x','y','f','f','h','x','x','x','g']\n",
        "x='x'\n",
        "c = 0\n",
        "for i in range(len(a)):\n",
        "  if a[i]==x:\n",
        "    c+=1\n",
        "print(c)\n"
      ],
      "metadata": {
        "colab": {
          "base_uri": "https://localhost:8080/"
        },
        "id": "JLbVDP7viN0J",
        "outputId": "525b7bd2-b451-4ccd-bec7-ac2f88a7068d"
      },
      "execution_count": null,
      "outputs": [
        {
          "output_type": "stream",
          "name": "stdout",
          "text": [
            "4\n"
          ]
        }
      ]
    },
    {
      "cell_type": "markdown",
      "source": [
        "7. В программе задан массив, состоящий из некоторого количества символьных элементов. На вход программы передается символ x. Используя линейный поиск (полный обход массива) подсчитайте количество элементов между самым первым и самым последним вхождениями элемента x в массив. Выведите результат на экран. Если x встречается в массиве всего 1 раз или не встречается вовсе — выведите -1."
      ],
      "metadata": {
        "id": "r7AZi62qi_gF"
      }
    },
    {
      "cell_type": "code",
      "source": [
        "a = ['x','y','x','x','g']\n",
        "x='x'\n",
        "g = []\n",
        "for i in range(len(a)):\n",
        "  if a[i]==x:\n",
        "    g.append(i)\n",
        "if not g or len(g)==1:\n",
        "  print('-1')\n",
        "else:\n",
        "  print(max(g)-min(g)-1)"
      ],
      "metadata": {
        "colab": {
          "base_uri": "https://localhost:8080/"
        },
        "id": "M6KBLmuZjKGy",
        "outputId": "bed7ce34-26d5-422f-d8f8-f090b0a62540"
      },
      "execution_count": null,
      "outputs": [
        {
          "output_type": "stream",
          "name": "stdout",
          "text": [
            "2\n"
          ]
        }
      ]
    },
    {
      "cell_type": "markdown",
      "source": [
        "8. В программе задан массив, состоящий из некоторого количества целочисленных элементов. На вход программы передается целое число x. Используя линейный поиск (полный обход массива) найдите индекс последнего элемента в массиве, который больше x и является четным. Выведите найденный индекс на экран. Если индекс не найден, верните -1."
      ],
      "metadata": {
        "id": "DXd881udkyeL"
      }
    },
    {
      "cell_type": "code",
      "source": [
        "import random\n",
        "a = [64,3,6,2,45,11,56,32,2]\n",
        "x = random.randint(1,100)\n",
        "c = -2\n",
        "v = 0\n",
        "for i in range(len(a)):\n",
        "  if a[i]>x and a[i]%2==0:\n",
        "    c = i\n",
        "    v = a[i]\n",
        "if c == -2:\n",
        "  print(v,'-1')\n",
        "else:\n",
        "  print(x,c,v)"
      ],
      "metadata": {
        "colab": {
          "base_uri": "https://localhost:8080/"
        },
        "id": "sSpKUpY4k_RU",
        "outputId": "ff05cc6e-f1dc-4293-b0cc-987d9f0a6a72"
      },
      "execution_count": null,
      "outputs": [
        {
          "output_type": "stream",
          "name": "stdout",
          "text": [
            "0 -1\n"
          ]
        }
      ]
    },
    {
      "cell_type": "markdown",
      "source": [
        "9. В программе задан массив, состоящий из некоторого количества целочисленных элементов отсортированных по возрастанию. На вход программы передается целое число x. Заведомо известно, что в массиве есть элемент со значением x. Завершите реализацию алгоритма бинарного поиска и вычислите индекс элемента со значением x в массиве."
      ],
      "metadata": {
        "id": "2jD_Gy6v_4kQ"
      }
    },
    {
      "cell_type": "code",
      "source": [
        "import random\n",
        "a = [64,3,6,7,45,11,56,32,2,46]\n",
        "x = 46#random.choice(a)\n",
        "a = sorted(a)\n",
        "print(a)\n",
        "while len(a) != 1:\n",
        "  elem = a[len(a)//2]\n",
        "  i = a.index(elem)\n",
        "  if x<elem:\n",
        "    a=a[:a.index(elem)]\n",
        "    ind = ind-(len(a)//2)\n",
        "    print(a)\n",
        "  elif x>elem:\n",
        "    a=a[a.index(elem)+1:]\n",
        "    ind = ind+len(a)//2 + 1\n",
        "    print(a)\n",
        "  else:\n",
        "    a=[elem]\n",
        "\n",
        "print(ind, a,x)"
      ],
      "metadata": {
        "colab": {
          "base_uri": "https://localhost:8080/"
        },
        "id": "2eIYpZFk_5ak",
        "outputId": "5f12831b-b681-4b7c-b51f-f773c2fd1b97"
      },
      "execution_count": null,
      "outputs": [
        {
          "output_type": "stream",
          "name": "stdout",
          "text": [
            "[2, 3, 6, 7, 11, 32, 45, 46, 56, 64]\n",
            "5\n",
            "1\n",
            "[45, 46, 56, 64]\n",
            "2\n",
            "4\n",
            "[45, 46]\n",
            "1\n",
            "3\n",
            "3 [46] 46\n"
          ]
        }
      ]
    },
    {
      "cell_type": "code",
      "source": [
        "a = [1,2,3,4,5,6,7,8,9]\n",
        "x = 3\n",
        "\n",
        "def r(a, x):\n",
        "    left, right = 0, len(a) - 1\n",
        "\n",
        "    while left <= right:\n",
        "        mid = left + (right - left) // 2\n",
        "\n",
        "        if a[mid] == x:\n",
        "            result = mid\n",
        "            break\n",
        "\n",
        "        elif a[mid] < x:\n",
        "            left = mid + 1\n",
        "        else:\n",
        "            right = mid - 1\n",
        "\n",
        "    return result\n",
        "\n",
        "\n",
        "\n",
        "result = r(a, x)\n",
        "\n",
        "print(x, result)"
      ],
      "metadata": {
        "colab": {
          "base_uri": "https://localhost:8080/"
        },
        "id": "JlnsYFxCgAVR",
        "outputId": "c7f550da-d2d9-4dab-f266-da6490aadf0b"
      },
      "execution_count": null,
      "outputs": [
        {
          "output_type": "stream",
          "name": "stdout",
          "text": [
            "3 2\n"
          ]
        }
      ]
    },
    {
      "cell_type": "markdown",
      "source": [
        "10. Доработайте алгоритм бинарного поиска из прошлой задачи так, чтобы на экран было выведено значение -1, если искомый элемент x не найден в массиве."
      ],
      "metadata": {
        "id": "Te_0Zw764bj1"
      }
    },
    {
      "cell_type": "code",
      "source": [
        "import random\n",
        "a = [64,3,6,7,7,7,45,11,56,32,2,46]\n",
        "x =7 # random.randint(1,65)\n",
        "b = sorted(a)\n",
        "print(a)\n",
        "while len(b) != 1 and len(b)>0:\n",
        "  print(b)\n",
        "  elem = b[len(b)//2]\n",
        "  if x<elem:\n",
        "    b=b[:b.index(elem)]\n",
        "  elif x>elem:\n",
        "    b=b[b.index(elem)+1:]\n",
        "  else:\n",
        "    b=[elem]\n",
        "if x in b:\n",
        "  print(b,x,a.index(b[0]))\n",
        "else:\n",
        "  print('-1',x)\n"
      ],
      "metadata": {
        "colab": {
          "base_uri": "https://localhost:8080/"
        },
        "id": "38P1r9-n4xPs",
        "outputId": "39bc164b-149a-4beb-f759-1f5deb81247f"
      },
      "execution_count": null,
      "outputs": [
        {
          "output_type": "stream",
          "name": "stdout",
          "text": [
            "[64, 3, 6, 7, 7, 7, 45, 11, 56, 32, 2, 46]\n",
            "[2, 3, 6, 7, 7, 7, 11, 32, 45, 46, 56, 64]\n",
            "[2, 3, 6, 7, 7, 7]\n",
            "[7] 7 3\n"
          ]
        }
      ]
    },
    {
      "cell_type": "code",
      "source": [
        "a = [1,2,3,4,5,6,7,8,9]\n",
        "x = 10\n",
        "\n",
        "def r(a, x):\n",
        "    left, right = 0, len(a) - 1\n",
        "    result = 0\n",
        "\n",
        "    while left <= right:\n",
        "        mid = left + (right - left) // 2\n",
        "\n",
        "        if a[mid] == x:\n",
        "            result = mid\n",
        "            break\n",
        "\n",
        "        elif a[mid] < x:\n",
        "            left = mid + 1\n",
        "        else:\n",
        "            right = mid - 1\n",
        "\n",
        "    return result\n",
        "\n",
        "\n",
        "\n",
        "result = r(a, x)\n",
        "if result == 0:\n",
        "  print('-1')\n",
        "else:\n",
        "  print(x, result)"
      ],
      "metadata": {
        "id": "gGghQYoIggPO"
      },
      "execution_count": null,
      "outputs": []
    },
    {
      "cell_type": "markdown",
      "source": [
        "11. В программе задан массив, состоящий из некоторого количества целочисленных элементов отсортированных по возрастанию. На вход программы передается целое число x. Завершите реализацию алгоритма правого бинарного поиска, выдающую индекс последнего вхождения элемента x в заданный массив или -1, если элемент отсутствует в списке"
      ],
      "metadata": {
        "id": "ltkcRxR9-V7H"
      }
    },
    {
      "cell_type": "code",
      "source": [
        "def r(a, x):\n",
        "    left, right = 0, len(arr) - 1\n",
        "    result = 0\n",
        "\n",
        "    while left <= right:\n",
        "        mid = left + (right - left) // 2\n",
        "\n",
        "        if a[mid] == x:\n",
        "            result = mid\n",
        "            left = mid + 1\n",
        "        elif a[mid] < x:\n",
        "            left = mid + 1\n",
        "        else:\n",
        "            right = mid - 1\n",
        "\n",
        "    return result\n",
        "\n",
        "a = [1, 2, 2, 2, 3, 4, 5, 6]\n",
        "x = 2\n",
        "\n",
        "result = r(a, x)\n",
        "\n",
        "if result != 0:\n",
        "    print(\"Последнее вхождение\", x, \"Индекс:\", result)\n",
        "else:\n",
        "    print(\"-1\")"
      ],
      "metadata": {
        "colab": {
          "base_uri": "https://localhost:8080/"
        },
        "id": "0Ar_Svmf_HZ7",
        "outputId": "50fa7c66-32a7-4466-fe6e-128b763b6bca"
      },
      "execution_count": null,
      "outputs": [
        {
          "output_type": "stream",
          "name": "stdout",
          "text": [
            "Последнее вхождение 2 Индекс: 3\n"
          ]
        }
      ]
    },
    {
      "cell_type": "markdown",
      "source": [
        "12. Вы работаете над проектом для местного ресторана в управлении запасами ингредиентов. Владелец ресторана хочет знать, есть ли у него на складе определенный ингредиент. Вам дается список ингредиентов, и владелец ресторана сообщает вам название ингредиента, который он ищет. Напишите функцию Python, которая будет возвращать, есть ли ингредиент на складе или нет, используя бинарный поиск."
      ],
      "metadata": {
        "id": "0BR73n1o_nzp"
      }
    },
    {
      "cell_type": "code",
      "source": [
        "def binary_search(list, target):\n",
        "    sorted_ingredients = sorted(list)  # Предполагается, что список ингредиентов предварительно отсортирован.\n",
        "\n",
        "    left, right = 0, len(sorted_ingredients) - 1\n",
        "\n",
        "    while left <= right:\n",
        "        mid = (left + right) // 2\n",
        "        mid_ingredient = sorted_ingredients[mid]\n",
        "\n",
        "        if mid_ingredient == target:\n",
        "            return True\n",
        "        elif mid_ingredient < target:\n",
        "            left = mid + 1\n",
        "        else:\n",
        "            right = mid - 1\n",
        "\n",
        "    return False\n",
        "\n",
        "# Пример использования:\n",
        "list = [\"мука\", \"сахар\", \"масло\", \"яйца\", \"соль\", \"дрожжи\"]\n",
        "target = \"мука\"\n",
        "print(sorted(list))\n",
        "if binary_search(list, target):\n",
        "    print(f\"Ингредиент {target} есть на складе.\")\n",
        "else:\n",
        "    print(f\"Ингредиента {target} нет на складе.\")"
      ],
      "metadata": {
        "colab": {
          "base_uri": "https://localhost:8080/"
        },
        "id": "eg-0gS-pJaCo",
        "outputId": "d1d1422c-ac77-4e75-f516-fc0b042ab0be"
      },
      "execution_count": null,
      "outputs": [
        {
          "output_type": "stream",
          "name": "stdout",
          "text": [
            "['дрожжи', 'масло', 'мука', 'сахар', 'соль', 'яйца']\n",
            "Ингредиент мука есть на складе.\n"
          ]
        }
      ]
    },
    {
      "cell_type": "markdown",
      "source": [
        "13. Дан массив, содержащий только положительные неповторяющиеся числа. Найдите и выведите на экран элемент массива, следующий сразу за максимальным элементом без использования функции max(). Если максимальный элемент последний, то выведите самый первый элемент массива."
      ],
      "metadata": {
        "id": "sNFL7oXxLQpt"
      }
    },
    {
      "cell_type": "code",
      "source": [
        "a = [1,2,3,5,6,4,10]\n",
        "max = a[0]\n",
        "for i in range(len(a)):\n",
        "  if a[i]>max:\n",
        "    max=a[i]\n",
        "    if i == len(a)-1:\n",
        "      c = a[0]\n",
        "    else:\n",
        "      c = a[i+1]\n",
        "print(max,c)\n"
      ],
      "metadata": {
        "colab": {
          "base_uri": "https://localhost:8080/"
        },
        "id": "SDFhzrmm5vgK",
        "outputId": "83457b05-be94-44c3-d2e5-e39258c36ad5"
      },
      "execution_count": null,
      "outputs": [
        {
          "output_type": "stream",
          "name": "stdout",
          "text": [
            "10 1\n"
          ]
        }
      ]
    },
    {
      "cell_type": "markdown",
      "source": [
        "14. За один обход найдите максимальную разность между двумя значениями массива. Массив состоит из неповторяющихся целых чисел от 1 до 100 включительно. Разрешено использовать только один цикл для обхода массива."
      ],
      "metadata": {
        "id": "rPZtLFRK8yaC"
      }
    },
    {
      "cell_type": "code",
      "source": [
        "a = []\n",
        "for i in range(1, 101):\n",
        "  a.append(i)\n",
        "\n",
        "max = 0\n",
        "min = 101\n",
        "for i in range(len(a)):\n",
        "  if a[i]>max:\n",
        "    max = a[i]\n",
        "  if a[i]<min:\n",
        "    min = a[i]\n",
        "k =max-min\n",
        "print(k)\n"
      ],
      "metadata": {
        "colab": {
          "base_uri": "https://localhost:8080/"
        },
        "id": "dQhpQnPkHI5d",
        "outputId": "ad4b168a-f2e4-416e-a637-986d113b8f23"
      },
      "execution_count": null,
      "outputs": [
        {
          "output_type": "stream",
          "name": "stdout",
          "text": [
            "99\n"
          ]
        }
      ]
    },
    {
      "cell_type": "markdown",
      "source": [
        "15. На вход подается массив, состоящий из целочисленных элементов, упорядоченных по возрастанию. Также подается целое число х, известно, что в массиве нет элементов, равных по значению х. С помощью линейного поиска найдите позицию (индекс), на которую нужно вставить элемент х (подвинув элементы, стоящие справа), чтобы сохранить упорядоченность массива."
      ],
      "metadata": {
        "id": "r9AtH31lI2ml"
      }
    },
    {
      "cell_type": "code",
      "source": [
        "a = [1,2,3,5,7,9]\n",
        "x = 8\n",
        "ind = 0\n",
        "for i in range(len(a)):\n",
        "  if a[i]>x:\n",
        "    ind = i\n",
        "    break\n",
        "print(ind)"
      ],
      "metadata": {
        "id": "KXtIO4GRO0pQ"
      },
      "execution_count": null,
      "outputs": []
    },
    {
      "cell_type": "markdown",
      "source": [
        "16. Числа Фибоначчи — известная числовая последовательность, встречающаяся повсеместно. Она задается следующим образом: первые два элемента: 0 и 1, а далее каждый элемент является суммой двух предыдущих. То есть последовательность Фибоначчи имеет вид: 0, 1, 1, 2, 3, 5, 8, 13, 21, 34, 55, 89, 144, 233, … Оказывается, простая с первого взгляда последовательность обладает интересными свойствами, чем и заслужила имя средневекового математика. Как можно догадаться, любой элемент последовательности Фибоначчи может быть вычислен с помощью динамического программирования. Реализуйте код, который по введенному n (n > 2) выводит n-е число Фибоначчи."
      ],
      "metadata": {
        "id": "8dg-P-9cJ8EY"
      }
    },
    {
      "cell_type": "code",
      "source": [
        "a = [0,1]\n",
        "n = int(input('Введите число больше 2:'))\n",
        "while n<=2:\n",
        "  n=int(input('Введите число больше 2:'))\n",
        "  if n>2:\n",
        "    for i in range(2,n):\n",
        "      a.append(a[i-2] + a[i-1])\n",
        "    print(a,a[n-1])"
      ],
      "metadata": {
        "id": "MlWfl-rfO3jd",
        "outputId": "b0af4219-fe4c-4283-b7d3-645b6bd17ab3",
        "colab": {
          "base_uri": "https://localhost:8080/"
        }
      },
      "execution_count": null,
      "outputs": [
        {
          "name": "stdout",
          "output_type": "stream",
          "text": [
            "Введите число больше 2:5\n"
          ]
        }
      ]
    },
    {
      "cell_type": "markdown",
      "source": [
        "17. На вход подается массив, состоящий из целочисленных элементов, упорядоченных по возрастанию. Также подается целое число х, известно, что в массиве нет элементов, равных по значению х. С помощью бинарного поиска найдите позицию (индекс), на которую нужно вставить элемент х (подвинув элементы, стоящие справа), чтобы сохранить упорядоченность массива.\n"
      ],
      "metadata": {
        "id": "xSYx1p4jPL62"
      }
    },
    {
      "cell_type": "code",
      "source": [
        "def f(a, x):\n",
        "    left, right = 0, len(a)\n",
        "\n",
        "    while left < right:\n",
        "        mid = left + (right - left) // 2\n",
        "\n",
        "        if a[mid] < x:\n",
        "            left = mid + 1\n",
        "        else:\n",
        "            right = mid\n",
        "\n",
        "    return left\n",
        "\n",
        "a = [1, 2, 4, 5, 6, 7, 8, 9, 10]\n",
        "x = 3\n",
        "\n",
        "p = f(a, x)\n",
        "\n",
        "print(p)"
      ],
      "metadata": {
        "id": "82v2TXgEfnge"
      },
      "execution_count": null,
      "outputs": []
    },
    {
      "cell_type": "markdown",
      "source": [
        "18. Дан упорядоченный целочисленный массив длины N, содержащий уникальные значения в диапазоне от 0 до N включительно. С помощью бинарного поиска найдите единственное пропущенное число из диапазона 0-N."
      ],
      "metadata": {
        "id": "eXH0jSk-gy6A"
      }
    },
    {
      "cell_type": "code",
      "source": [
        "n = 15\n",
        "a = sorted(random.sample(range(n + 1), n))\n",
        "def f(a):\n",
        "    left, right = 0, len(a) - 1\n",
        "\n",
        "    while left <= right:\n",
        "        mid = left + (right - left) // 2\n",
        "\n",
        "        if a[mid] == mid:\n",
        "            left = mid + 1\n",
        "        else:\n",
        "            right = mid - 1\n",
        "\n",
        "    return left\n",
        "\n",
        "\n",
        "m = f(a)\n",
        "\n",
        "print(a)\n",
        "print(m)"
      ],
      "metadata": {
        "id": "gzXXHm8ihCEo"
      },
      "execution_count": null,
      "outputs": []
    },
    {
      "cell_type": "markdown",
      "source": [
        "19. Посчитайте количество всех возможных последовательностей длины n, состоящих только из 0 и 1, в которых не встречаются два идущих подряд 0. Длина последовательности n подается на вход программы."
      ],
      "metadata": {
        "id": "jUVvABAkkjhU"
      }
    },
    {
      "cell_type": "code",
      "source": [
        "def count_sequences_without_two_consecutive_zeros(n):\n",
        "    if n == 0:\n",
        "        return 1\n",
        "    if n == 1:\n",
        "        return 2\n",
        "\n",
        "    count = [0] * (n + 1)\n",
        "    count[0] = 1\n",
        "    count[1] = 2\n",
        "\n",
        "    for i in range(2, n + 1):\n",
        "        count[i] = count[i - 1] + count[i - 2]\n",
        "\n",
        "    return count[n]\n",
        "\n",
        "n = int(input(\"Длина последовательности: \"))\n",
        "r = count_sequences_without_two_consecutive_zeros(n)\n",
        "print('Кол-во последовательностей:', r)"
      ],
      "metadata": {
        "id": "nOSFWlDGkmCT"
      },
      "execution_count": null,
      "outputs": []
    },
    {
      "cell_type": "markdown",
      "source": [
        "20. Дана последовательность целых чисел. Необходимо найти длину ее наибольшей строго возрастающей подпоследовательности. Подпоследовательность — это некоторое подмножество чисел исходной последовательности, следующих в том же порядке, что и в исходной последовательности, но необязательно подряд."
      ],
      "metadata": {
        "id": "1CBf_gRy3vIY"
      }
    },
    {
      "cell_type": "code",
      "source": [
        "a = [1,2,3,4,3,2,3,4,6,6]\n",
        "\n",
        "def f(a):\n",
        "  count = 1\n",
        "  c = []\n",
        "  for i in range(1,len(a)):\n",
        "    if a[i]>a[i-1]:\n",
        "      count+=1\n",
        "    else:\n",
        "      c.append(count)\n",
        "      count=1\n",
        "  c.append(count)\n",
        "  return c\n",
        "print(max(f(a)))\n"
      ],
      "metadata": {
        "id": "sDbFGHph3-IQ"
      },
      "execution_count": null,
      "outputs": []
    },
    {
      "cell_type": "markdown",
      "source": [
        "21. Рассмотрим две строки (символьные последовательности) произвольной длины. Подстрокой заданной строки назовем некоторое подмножество символов исходной строки, следующих в том же порядке, в котором они идут в исходной строке, но не обязательно подряд. То есть для строки \"abcdef\" подстроками будут \"a\", \"abc\", \"acef\", \"bef\" и т. д. Для двух поданных на вход программы строк найдите длину наибольшей общей подстроки. Например, для строки \"abcaba\"c и \"baccbca\" самой длинной общей подстрокой будут \"acba\" или \"abca\"."
      ],
      "metadata": {
        "id": "pJHgOUG26qyE"
      }
    },
    {
      "cell_type": "code",
      "source": [
        "x = 'abcaba'\n",
        "y = 'baccbca'\n",
        "def f(x, y):\n",
        "    L = [[0]*(len(y)+1) for _ in range(len(x)+1)]\n",
        "    for x_i,x_elem in enumerate(x):\n",
        "        for y_i,y_elem in enumerate(y):\n",
        "            if x_elem == y_elem:\n",
        "                L[x_i][y_i] = L[x_i-1][y_i-1] + 1\n",
        "            else:\n",
        "                L[x_i][y_i] = max((L[x_i][y_i-1],L[x_i-1][y_i]))\n",
        "    return L\n",
        "def L(x, y):\n",
        "    L = f(x, y)\n",
        "    LCS = []\n",
        "    x_i,y_i = len(x)-1,len(y)-1\n",
        "    while x_i >= 0 and y_i >= 0:\n",
        "        if x[x_i] == y[y_i]:\n",
        "            LCS.append(x[x_i])\n",
        "            x_i, y_i = x_i-1, y_i-1\n",
        "        elif L[x_i-1][y_i] > L[x_i][y_i-1]:\n",
        "            x_i -= 1\n",
        "        else:\n",
        "            y_i -= 1\n",
        "    LCS.reverse()\n",
        "    return LCS\n",
        "k = L(x,y)\n",
        "k = ''.join(k)\n",
        "print(k)"
      ],
      "metadata": {
        "id": "uJMH1bZbcLvH",
        "outputId": "0c54253b-db15-4532-cda0-74d9c0cc6aff",
        "colab": {
          "base_uri": "https://localhost:8080/"
        }
      },
      "execution_count": null,
      "outputs": [
        {
          "output_type": "stream",
          "name": "stdout",
          "text": [
            "baba\n"
          ]
        }
      ]
    }
  ]
}
{
  "nbformat": 4,
  "nbformat_minor": 0,
  "metadata": {
    "colab": {
      "provenance": [],
      "authorship_tag": "ABX9TyPcuWl4dHpjvv4SxgrQqTrN",
      "include_colab_link": true
    },
    "kernelspec": {
      "name": "python3",
      "display_name": "Python 3"
    },
    "language_info": {
      "name": "python"
    }
  },
  "cells": [
    {
      "cell_type": "markdown",
      "metadata": {
        "id": "view-in-github",
        "colab_type": "text"
      },
      "source": [
        "<a href=\"https://colab.research.google.com/github/Kustarevvv/Practice/blob/main/Practice_1(part_1).ipynb\" target=\"_parent\"><img src=\"https://colab.research.google.com/assets/colab-badge.svg\" alt=\"Open In Colab\"/></a>"
      ]
    },
    {
      "cell_type": "code",
      "source": [
        "import random\n",
        "l = random.sample(range(1,101), 5)\n",
        "print(l)"
      ],
      "metadata": {
        "colab": {
          "base_uri": "https://localhost:8080/"
        },
        "id": "Az4XGyb89tQ1",
        "outputId": "01d78db3-700c-4d69-e4ba-66fea8ec4a1b"
      },
      "execution_count": null,
      "outputs": [
        {
          "output_type": "stream",
          "name": "stdout",
          "text": [
            "[32, 8, 60, 37, 66]\n"
          ]
        }
      ]
    },
    {
      "cell_type": "markdown",
      "source": [
        "В программе задан список месяцев months. Выведите на экран первый и последний элементы списка в строку через пробел."
      ],
      "metadata": {
        "id": "RgIdvXCK6KAW"
      }
    },
    {
      "cell_type": "code",
      "execution_count": null,
      "metadata": {
        "colab": {
          "base_uri": "https://localhost:8080/"
        },
        "id": "Ju-iapWB5yrF",
        "outputId": "d5366a31-8b34-483d-e558-058b33e8fde7"
      },
      "outputs": [
        {
          "output_type": "stream",
          "name": "stdout",
          "text": [
            "март май\n"
          ]
        }
      ],
      "source": [
        "month =['март', 'апрель', 'май']\n",
        "print(month[0], month[-1])"
      ]
    },
    {
      "cell_type": "markdown",
      "source": [
        "В программе задан список месяцев staff. Выведите на экран список из трех последних элементов списка staff."
      ],
      "metadata": {
        "id": "Nf31b-1h6slW"
      }
    },
    {
      "cell_type": "code",
      "source": [
        "staff =['март', 'апрель', 'май', 'июнь', 'июль']\n",
        "print(staff[-3:])"
      ],
      "metadata": {
        "colab": {
          "base_uri": "https://localhost:8080/"
        },
        "id": "-DULxMJS6s5d",
        "outputId": "333dedaa-e172-47ad-9e9f-c25728567336"
      },
      "execution_count": null,
      "outputs": [
        {
          "output_type": "stream",
          "name": "stdout",
          "text": [
            "['май', 'июнь', 'июль']\n"
          ]
        }
      ]
    },
    {
      "cell_type": "markdown",
      "source": [
        "Программа принимает на вход 3 целых числа: start, end и step. Выведите на экран список lst с целыми значениями от start (включительно) до end (исключительно) с шагом step."
      ],
      "metadata": {
        "id": "EYmuzHeH7RNG"
      }
    },
    {
      "cell_type": "code",
      "source": [
        "start=10\n",
        "end = 50\n",
        "step = 5\n",
        "lst = []\n",
        "for i in range(start,end+1,step):\n",
        "  lst.append(i)\n",
        "print(lst)\n"
      ],
      "metadata": {
        "colab": {
          "base_uri": "https://localhost:8080/"
        },
        "id": "oVu2AnMY7SzV",
        "outputId": "d36e1f0c-d912-4554-995e-bcebc16f0def"
      },
      "execution_count": null,
      "outputs": [
        {
          "output_type": "stream",
          "name": "stdout",
          "text": [
            "[10, 15, 20, 25, 30, 35, 40, 45, 50]\n"
          ]
        }
      ]
    },
    {
      "cell_type": "markdown",
      "source": [
        "В программе задан список pi, содержащий определенное количество знаков числа Пи. Добавьте следующую цифру в список и выведите его на экран."
      ],
      "metadata": {
        "id": "eD7R_t9O8AFV"
      }
    },
    {
      "cell_type": "code",
      "source": [
        "pi = ['1', '4', '1', '5']\n",
        "pi.append('9')\n",
        "print(pi)"
      ],
      "metadata": {
        "colab": {
          "base_uri": "https://localhost:8080/"
        },
        "id": "mMrEVouA8E88",
        "outputId": "c25c8cf5-663e-4d08-b2d9-f0bd3ec35c17"
      },
      "execution_count": null,
      "outputs": [
        {
          "output_type": "stream",
          "name": "stdout",
          "text": [
            "['1', '4', '1', '5', '9']\n"
          ]
        }
      ]
    },
    {
      "cell_type": "markdown",
      "source": [
        "В программе задан список menu с блюдами на обед. Удалите из списка второй суп (\"солянка\"), сохраните его в отдельную переменную, а затем выведите ее на экран. Также выведите обновленный список menu на экран."
      ],
      "metadata": {
        "id": "rD-qAQGV816a"
      }
    },
    {
      "cell_type": "code",
      "source": [
        "menu = ['греча','солянка','макароны','куриный суп']\n",
        "m = menu.pop(1)\n",
        "\n",
        "print(menu, 'удалённый суп:', m)"
      ],
      "metadata": {
        "colab": {
          "base_uri": "https://localhost:8080/"
        },
        "id": "xvfyWJl885iZ",
        "outputId": "8ec7e136-a9dd-4923-a149-1f1185dd7bf9"
      },
      "execution_count": null,
      "outputs": [
        {
          "output_type": "stream",
          "name": "stdout",
          "text": [
            "['греча', 'макароны', 'куриный суп'] удалённый суп: солянка\n"
          ]
        }
      ]
    },
    {
      "cell_type": "markdown",
      "source": [
        "В программе задан список menu с блюдами на обед. Замените салат \"ачик-чучук\" из списка на \"шакароб\" и выведите обновленный список menu на экран"
      ],
      "metadata": {
        "id": "RcEAXEnp-f6b"
      }
    },
    {
      "cell_type": "code",
      "source": [
        "menu = ['греча','ачик-чучук','макароны','куриный суп']\n",
        "menu[1]='шакароб'\n",
        "print(menu)"
      ],
      "metadata": {
        "colab": {
          "base_uri": "https://localhost:8080/"
        },
        "id": "M9UOg7cZ-hUL",
        "outputId": "96fbaea9-13db-4f3f-f225-56cbaefb12e4"
      },
      "execution_count": null,
      "outputs": [
        {
          "output_type": "stream",
          "name": "stdout",
          "text": [
            "['греча', 'шакароб', 'макароны', 'куриный суп']\n"
          ]
        }
      ]
    },
    {
      "cell_type": "markdown",
      "source": [
        "На вход программы подается целое положительное число n и создается числовой список lst длины n. Не создавая новый список разделите каждый элемент lst пополам и выведите результат на экран."
      ],
      "metadata": {
        "id": "UkEn9QJlAiCX"
      }
    },
    {
      "cell_type": "code",
      "source": [
        "n = 10\n",
        "lst=[]\n",
        "for i in range(1,n+1):\n",
        "  lst.append(i/2)\n",
        "print(lst)"
      ],
      "metadata": {
        "colab": {
          "base_uri": "https://localhost:8080/"
        },
        "id": "Cj439er0AjY3",
        "outputId": "b1380019-8f17-4ae7-bdb1-613c48049daa"
      },
      "execution_count": null,
      "outputs": [
        {
          "output_type": "stream",
          "name": "stdout",
          "text": [
            "[0.5, 1.0, 1.5, 2.0, 2.5, 3.0, 3.5, 4.0, 4.5, 5.0]\n"
          ]
        }
      ]
    },
    {
      "cell_type": "markdown",
      "source": [
        "В программе задан список lst, состоящий из некоторого количества разнотипных элементов. Не создавая новый список приведите к строковому типу все элементы lst и выведите результат на экран."
      ],
      "metadata": {
        "id": "sLonxOb6_ak_"
      }
    },
    {
      "cell_type": "code",
      "source": [
        "lst = [1,'ff', 1.8, True]\n",
        "for i in range (len(lst)):\n",
        "  lst[i]=str(lst[i])\n",
        "print(lst)"
      ],
      "metadata": {
        "colab": {
          "base_uri": "https://localhost:8080/"
        },
        "id": "u2QR10Xg_brS",
        "outputId": "1e105d6f-e8ec-4062-ace7-18a82116fcd7"
      },
      "execution_count": null,
      "outputs": [
        {
          "output_type": "stream",
          "name": "stdout",
          "text": [
            "['1', 'ff', '1.8', 'True']\n"
          ]
        }
      ]
    },
    {
      "cell_type": "markdown",
      "source": [
        "Программа принимает на вход строку shopstring, состоящую из продуктов, которые необходимо купить в магазине, разделенных запятой без пробела (\",\"). Преобразуйте данную строку в список покупок и выведите его на экран."
      ],
      "metadata": {
        "id": "2XSkdJp3BNmj"
      }
    },
    {
      "cell_type": "code",
      "source": [
        "shopstring = 'булка,картошка,яйца'\n",
        "shoplist=shopstring.split(',')\n",
        "print(shoplist)"
      ],
      "metadata": {
        "colab": {
          "base_uri": "https://localhost:8080/"
        },
        "id": "fk2C_e6GBOcM",
        "outputId": "6eba2a10-c23b-4fad-b373-5ebfa55d55e5"
      },
      "execution_count": null,
      "outputs": [
        {
          "output_type": "stream",
          "name": "stdout",
          "text": [
            "['булка', 'картошка', 'яйца']\n"
          ]
        }
      ]
    },
    {
      "cell_type": "markdown",
      "source": [
        "В программе задан список shoplist, содержащий продукты, которые необходимо купить в магазине. Преобразуйте данный список в строку используя дефис (\"-\") в качестве разделителя и выведите ее на экран."
      ],
      "metadata": {
        "id": "m1ZKRCqYB67T"
      }
    },
    {
      "cell_type": "code",
      "source": [
        "shoplist = ['булка','яйца','картошка']\n",
        "shopstring='-'.join(shoplist)\n",
        "print(shopstring)"
      ],
      "metadata": {
        "colab": {
          "base_uri": "https://localhost:8080/"
        },
        "id": "4W7UK8WXB91e",
        "outputId": "cd7d53ff-18b7-4c7f-fc1b-ced47b7e873e"
      },
      "execution_count": null,
      "outputs": [
        {
          "output_type": "stream",
          "name": "stdout",
          "text": [
            "булка-яйца-картошка\n"
          ]
        }
      ]
    },
    {
      "cell_type": "markdown",
      "source": [
        "Напишите программу, которая получает на вход список из латинских букв и добавляет в него недостающие буквы латинского алфавита. Производить сортировку полученного массива в алфавитном порядке не нужно."
      ],
      "metadata": {
        "id": "TytcmYcCDATy"
      }
    },
    {
      "cell_type": "code",
      "source": [
        "abc='abcdefghijklmnopqrstuvwxyz'\n",
        "lst=['q','s','f']\n",
        "for let in abc:\n",
        "  if let not in lst:\n",
        "    lst.append(let)\n",
        "print(lst)"
      ],
      "metadata": {
        "colab": {
          "base_uri": "https://localhost:8080/"
        },
        "id": "TLrYyGkTDFVo",
        "outputId": "5ae93eb1-1b33-4cc4-9115-6668fe35cff0"
      },
      "execution_count": null,
      "outputs": [
        {
          "output_type": "stream",
          "name": "stdout",
          "text": [
            "['q', 's', 'f', 'a', 'b', 'c', 'd', 'e', 'g', 'h', 'i', 'j', 'k', 'l', 'm', 'n', 'o', 'p', 'r', 't', 'u', 'v', 'w', 'x', 'y', 'z']\n"
          ]
        }
      ]
    },
    {
      "cell_type": "markdown",
      "source": [
        "На вход программы подается число N. В следующем коде замените символы «???» так, чтобы полученный код создавал список чисел numeric_list от 1 до N включительно, и выведите список на экран."
      ],
      "metadata": {
        "id": "TgkUBzatDzin"
      }
    },
    {
      "cell_type": "code",
      "source": [
        "N = int(input(\"Введите число N:\"))\n",
        "numeric_list = list(range(1, N + 1))\n",
        "print(numeric_list)"
      ],
      "metadata": {
        "id": "rSBFPQssD2MI",
        "colab": {
          "base_uri": "https://localhost:8080/"
        },
        "outputId": "f86555e3-438a-4df1-c290-71db67445b6b"
      },
      "execution_count": null,
      "outputs": [
        {
          "output_type": "stream",
          "name": "stdout",
          "text": [
            "Введите число N:4\n",
            "[1, 2, 3, 4]\n"
          ]
        }
      ]
    },
    {
      "cell_type": "markdown",
      "source": [
        "Выведите на отдельных строчках максимальный и минимальный элементы в списке из 10 числовых значений."
      ],
      "metadata": {
        "id": "2Mu8XTtPztsE"
      }
    },
    {
      "cell_type": "code",
      "source": [
        "s = []\n",
        "for i in range(1,11):\n",
        "  s.append(i)\n",
        "print(max(s), min(s), sep = '\\n')"
      ],
      "metadata": {
        "colab": {
          "base_uri": "https://localhost:8080/"
        },
        "id": "tMDZWd7WzzrO",
        "outputId": "ed299a43-687c-420c-94e0-beb4ddd3a8b4"
      },
      "execution_count": null,
      "outputs": [
        {
          "output_type": "stream",
          "name": "stdout",
          "text": [
            "10\n",
            "1\n"
          ]
        }
      ]
    },
    {
      "cell_type": "markdown",
      "source": [
        "Создайте пустой кортеж любым известным вам способом, сохранив его в переменную tup."
      ],
      "metadata": {
        "id": "aCwW7P1q1254"
      }
    },
    {
      "cell_type": "code",
      "source": [
        "tup = ()"
      ],
      "metadata": {
        "id": "S82Nyuj92eaT"
      },
      "execution_count": null,
      "outputs": []
    },
    {
      "cell_type": "markdown",
      "source": [
        "Создайте кортеж tup состоящий из двух элементов: первый целочисленный, а второй — строковый."
      ],
      "metadata": {
        "id": "dKTF5za72r6k"
      }
    },
    {
      "cell_type": "code",
      "source": [
        "tup = (10, 'w')\n",
        "print(tup)"
      ],
      "metadata": {
        "colab": {
          "base_uri": "https://localhost:8080/"
        },
        "id": "r-lN8zCe2xE6",
        "outputId": "804ee9c0-3681-4ad6-d179-311887c45777"
      },
      "execution_count": null,
      "outputs": [
        {
          "output_type": "stream",
          "name": "stdout",
          "text": [
            "(10, 'w')\n"
          ]
        }
      ]
    },
    {
      "cell_type": "markdown",
      "source": [
        "В программе задан кортеж tup, состоящий из некоторого количества элементов. Передайте на вход программы целочисленную переменную cnt, а затем создайте и выведите на экран новый кортеж, который будет содержать только кратные cnt элементы исходного кортежа."
      ],
      "metadata": {
        "id": "-BarG54N21LS"
      }
    },
    {
      "cell_type": "code",
      "source": [
        "tup = (2, \"abc\", 8, \"def\", 10, 12, \"ghi\", 15, 20)\n",
        "\n",
        "cnt = int(input(\"Введите число cnt: \"))\n",
        "\n",
        "result_tup = tuple(item for item in tup if isinstance(item, int) and item % cnt == 0)\n",
        "\n",
        "print(result_tup)"
      ],
      "metadata": {
        "colab": {
          "base_uri": "https://localhost:8080/"
        },
        "id": "s4gh4M6H29St",
        "outputId": "6f997550-3dc4-4359-d048-846bbaea8c97"
      },
      "execution_count": null,
      "outputs": [
        {
          "output_type": "stream",
          "name": "stdout",
          "text": [
            "Введите число cnt: 3\n",
            "(12, 15)\n"
          ]
        }
      ]
    },
    {
      "cell_type": "markdown",
      "source": [
        "В программе задан кортеж tup, состоящий из некоторого количества элементов. Передайте на вход программы целочисленную переменную cnt, повторите кортеж cnt раз и сохраните результат в исходную переменную, а затем выведите ее на экран."
      ],
      "metadata": {
        "id": "qos_4-U85mWj"
      }
    },
    {
      "cell_type": "code",
      "source": [
        "tup = (1,'2',3)\n",
        "\n",
        "cnt = int(input())\n",
        "tup = tup*cnt\n",
        "print(tup)"
      ],
      "metadata": {
        "colab": {
          "base_uri": "https://localhost:8080/"
        },
        "id": "jzf59f9_6M3d",
        "outputId": "ce97462a-b632-4a2d-f669-85ede439de5a"
      },
      "execution_count": null,
      "outputs": [
        {
          "output_type": "stream",
          "name": "stdout",
          "text": [
            "2\n",
            "(1, '2', 3, 1, '2', 3)\n"
          ]
        }
      ]
    },
    {
      "cell_type": "markdown",
      "source": [
        "В программе заданы пара кортежей tup1 и tup2, состоящие из некоторого количества элементов. Выполните конкатенацию (сложение) двух кортежей, сохраните полученный кортеж в новую переменную, а затем выведите ее на экран."
      ],
      "metadata": {
        "id": "kvt9mDG46iAz"
      }
    },
    {
      "cell_type": "code",
      "source": [
        "tup1 = (1,2,'2')\n",
        "tup2 = ('aa', 1.2)\n",
        "tup3 = tup1 + tup2\n",
        "print(tup3)"
      ],
      "metadata": {
        "colab": {
          "base_uri": "https://localhost:8080/"
        },
        "id": "4ExlUisl6qaO",
        "outputId": "0e5b17d3-d232-4d96-aceb-2d7ff215e88e"
      },
      "execution_count": null,
      "outputs": [
        {
          "output_type": "stream",
          "name": "stdout",
          "text": [
            "(1, 2, '2', 'aa', 1.2)\n"
          ]
        }
      ]
    },
    {
      "cell_type": "markdown",
      "source": [
        "В программе задан кортеж tup, состоящий из некоторого количества элементов. Передайте на вход программы строковую переменную s и выведите на экран индекс первого вхождения элемента со значением s в кортеж tup."
      ],
      "metadata": {
        "id": "-TF91sxT68jD"
      }
    },
    {
      "cell_type": "code",
      "source": [
        "tup = ('w', 'r', 's', 's', 12)\n",
        "s = 's'\n",
        "index = []\n",
        "for i in range(len(tup)):\n",
        "  if s == tup[i]:\n",
        "    print(i)\n",
        "    break\n",
        "\n",
        "\n",
        "\n"
      ],
      "metadata": {
        "id": "hgQMCvNJ7OJ9",
        "colab": {
          "base_uri": "https://localhost:8080/"
        },
        "outputId": "d71fbb50-e787-4173-b75d-d0cd1617ed75"
      },
      "execution_count": null,
      "outputs": [
        {
          "output_type": "stream",
          "name": "stdout",
          "text": [
            "2\n"
          ]
        }
      ]
    },
    {
      "cell_type": "markdown",
      "source": [
        "В программе задан кортеж tup, состоящий из некоторого количества целочисленных элементов. Найдите максимальный и минимальный элементы кортежа, а затем выведите их на экран в одну строку через пробел."
      ],
      "metadata": {
        "id": "bOZ1YUzc8ovS"
      }
    },
    {
      "cell_type": "code",
      "source": [
        "tup = (2, 30, 10, 32, 7)\n",
        "print(max(tup), min(tup))"
      ],
      "metadata": {
        "id": "WgFmHYzP-v6s",
        "colab": {
          "base_uri": "https://localhost:8080/"
        },
        "outputId": "357673e0-f60e-4061-8da8-286056e7f656"
      },
      "execution_count": null,
      "outputs": [
        {
          "output_type": "stream",
          "name": "stdout",
          "text": [
            "32 2\n"
          ]
        }
      ]
    },
    {
      "cell_type": "markdown",
      "source": [
        "В программе задан кортеж tup, состоящий из некоторого количества целочисленных элементов. Отсортируйте в порядке возрастания заданный кортеж, сохраните результат в список lst и выведите результат на экран в виде кортежа."
      ],
      "metadata": {
        "id": "pCRVVIJR_F4c"
      }
    },
    {
      "cell_type": "code",
      "source": [
        "tup = (2, 30, 10, 32, 7)\n",
        "sorted = sorted(tup)\n",
        "print(sorted)"
      ],
      "metadata": {
        "colab": {
          "base_uri": "https://localhost:8080/"
        },
        "id": "-gtLanVQJTXK",
        "outputId": "a47f7d19-e9b8-4909-b73f-39bea164ac50"
      },
      "execution_count": null,
      "outputs": [
        {
          "output_type": "stream",
          "name": "stdout",
          "text": [
            "[2, 7, 10, 30, 32]\n"
          ]
        }
      ]
    },
    {
      "cell_type": "markdown",
      "source": [],
      "metadata": {
        "id": "RZJfTbfS_4CO"
      }
    },
    {
      "cell_type": "markdown",
      "source": [
        "Напишите функцию sort(), которая принимает на вход кортеж с целыми числами, а на выходе возвращает список всех элементов кортежа в отсортированном виде"
      ],
      "metadata": {
        "id": "v_XqZK_7AJ-c"
      }
    },
    {
      "cell_type": "code",
      "source": [
        "a = (4,3,2,1)\n",
        "N = len(a)\n",
        "a = list(a)\n",
        "def sort(a):\n",
        "  for i in range(N-1):\n",
        "    for j in range(N-i-1):\n",
        "        if a[j] > a[j+1]:\n",
        "            a[j], a[j+1] = a[j+1], a[j]\n",
        "  return(a)\n",
        "print(sort(a))\n"
      ],
      "metadata": {
        "colab": {
          "base_uri": "https://localhost:8080/"
        },
        "id": "yg-uUS4bhrHR",
        "outputId": "52067a8b-84a9-4f66-d0f5-35670f2f35e6"
      },
      "execution_count": null,
      "outputs": [
        {
          "output_type": "stream",
          "name": "stdout",
          "text": [
            "[1, 2, 3, 4]\n"
          ]
        }
      ]
    },
    {
      "cell_type": "code",
      "source": [
        "s = ()"
      ],
      "metadata": {
        "id": "4o8Vra2C8uf4"
      },
      "execution_count": null,
      "outputs": []
    }
  ]
}
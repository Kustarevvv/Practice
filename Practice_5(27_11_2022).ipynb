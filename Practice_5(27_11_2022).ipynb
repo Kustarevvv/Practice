{
  "nbformat": 4,
  "nbformat_minor": 0,
  "metadata": {
    "colab": {
      "provenance": [],
      "authorship_tag": "ABX9TyOlge53XeADV5JSyDrMrhX9",
      "include_colab_link": true
    },
    "kernelspec": {
      "name": "python3",
      "display_name": "Python 3"
    },
    "language_info": {
      "name": "python"
    }
  },
  "cells": [
    {
      "cell_type": "markdown",
      "metadata": {
        "id": "view-in-github",
        "colab_type": "text"
      },
      "source": [
        "<a href=\"https://colab.research.google.com/github/Kustarevvv/Practice/blob/main/Practice_5(27_11_2022).ipynb\" target=\"_parent\"><img src=\"https://colab.research.google.com/assets/colab-badge.svg\" alt=\"Open In Colab\"/></a>"
      ]
    },
    {
      "cell_type": "markdown",
      "source": [
        "1. Программа принимает на вход целочисленную переменную n (n>1) и формирует последовательность от 0 до n включительно, в которой первые 3 элемента равны 1, 1 и 2 соответственно, а каждый следующий равен сумме трех предыдущих. Дополните заданную программу и выведите на экран значение n-ого элемента последовательности."
      ],
      "metadata": {
        "id": "WviIdmDNqGpZ"
      }
    },
    {
      "cell_type": "code",
      "execution_count": null,
      "metadata": {
        "id": "8ThgPgeIqGAM"
      },
      "outputs": [],
      "source": [
        "a = [1,1,2]\n",
        "\n",
        "n = int(input('Введите число больше 1:'))\n",
        "while n<=1:\n",
        "  n=int(input('Введите число больше 1:'))\n",
        "\n",
        "if n>1:\n",
        "  for i in range(3,n):\n",
        "    a.append(a[i-1] + a[i-2]+a[i-3])\n",
        "print(a,a[n-1])"
      ]
    },
    {
      "cell_type": "markdown",
      "source": [
        "2. Программа принимает на вход целочисленную переменную n (n>3) и формирует последовательность от 0 до n включительно. Дополните заданную программу добавив исходные данные, а также рекуррентное соотношение R(n), определяющее значение очередного элемента как сумму первого, третьего и пятого предшествующих элементов. Выведите на экран значение n-ого элемента последовательности."
      ],
      "metadata": {
        "id": "g2Q16Ap0tf3l"
      }
    },
    {
      "cell_type": "code",
      "source": [
        "a = [1,2,3,4,5]\n",
        "\n",
        "n = int(input('Введите число больше 3:'))\n",
        "while n<=3:\n",
        "  n=int(input('Введите число больше 3:'))\n",
        "\n",
        "if n>3:\n",
        "  for i in range(5,n):\n",
        "    a.append(a[i-1] + a[i-3]+a[i-5])\n",
        "print(a,a[n-1])"
      ],
      "metadata": {
        "id": "z81c3kf0upEH"
      },
      "execution_count": null,
      "outputs": []
    },
    {
      "cell_type": "markdown",
      "source": [
        "3. Отличительной особенностью рассмотренного в предыдущих двух задачах алгоритма является то, что при его выполнении мы по пути также вычисляем количество способов добраться до всех предыдущих точек n - 1, n - 2, и тд. Это иногда бывает полезно, но хранить весь массив вовсе необязательно. Пусть программа принимает на вход целочисленную переменную n (n>1). Реализуйте алгоритм поиска числа маршрутов для самого простого кузнечика, прыгающего вправо на 1 и 2 до n, не используя массив, а затем выведите результат на экран."
      ],
      "metadata": {
        "id": "xyv_sMrLvpaC"
      }
    },
    {
      "cell_type": "code",
      "source": [
        "e = int(input('Введите число больше 1:'))\n",
        "while e<=1:\n",
        "  e=int(input('Введите число больше 1:'))\n",
        "\n",
        "c = 0\n",
        "def f(c,e):\n",
        "  if c == e: return 1\n",
        "  if c>e: return 0\n",
        "  if c<e: return f(c+1,e)+f(c+2,e)\n",
        "\n",
        "print(f(c,e))\n"
      ],
      "metadata": {
        "id": "g67eUhx1v1mr"
      },
      "execution_count": null,
      "outputs": []
    },
    {
      "cell_type": "markdown",
      "source": [
        "4. В программе задана целочисленная матрица произвольного размера. На вход переданы два целых числа x и y такие, что оба они укладываются в размерность матрицы, то есть элемент матрицы с координатами (x, y) достижим. Допустим, что в каждой клетке матрицы приписано некоторое число — стоимость прохождения через данную клетку. Двигаться можно только с увеличением координат по прямой или по диагонали. Нас интересует конкретный маршрут из клетки (0, 0) в клетку (x, y) имеющий наименьшую стоимость. Выведите на экран сумму значений элементов по этому маршруту."
      ],
      "metadata": {
        "id": "0Rcvqu6l1Ocl"
      }
    },
    {
      "cell_type": "code",
      "source": [
        "import random\n",
        "n,m = random.randint(1,10), random.randint(1,10)\n",
        "\n",
        "matr = []\n",
        "for i in range(n):\n",
        "  matr.append([])\n",
        "\n",
        "new =  [ [0]*m for i in range(n) ]\n",
        "#print(new)\n",
        "\n",
        "for i in range(n):\n",
        "  for j in range(m):\n",
        "    matr[i].append(random.randint(0,10))\n",
        "\n",
        "new[0][0]=matr[0][0]\n",
        "\n",
        "x,y = random.randint(0,m-1),random.randint(0,n-1)\n",
        "print('n(высота)=',n,'m(ширина)=',m)\n",
        "print('y=',y+1,'x=',x+1)\n",
        "\n",
        "\n",
        "for g in range(1,x+1):\n",
        "  new[0][g] = matr[0][g]+new[0][g-1]\n",
        "for j in range(1,y+1):\n",
        "  new[j][0] = matr[j][0]+new[j-1][0]\n",
        "\n",
        "for i in range(1, y+1):\n",
        "        for j in range(1, x+1):\n",
        "            new[i][j] = matr[i][j] + min(\n",
        "                new[i - 1][j - 1],\n",
        "                new[i - 1][j],\n",
        "                new[i][j - 1]\n",
        "            )\n",
        "\n",
        "\n",
        "import pandas as pd\n",
        "\n",
        "df = pd.DataFrame(new)\n",
        "dff = pd.DataFrame(matr)\n",
        "print(dff)\n",
        "print('')\n",
        "print(df)\n",
        "print('')\n",
        "print('маршрут имеющий наименьшую стоимость=',new[y][x])\n",
        "\n",
        "\n"
      ],
      "metadata": {
        "id": "KMvi2pHD1PuS"
      },
      "execution_count": null,
      "outputs": []
    },
    {
      "cell_type": "markdown",
      "source": [
        "5. Вспомните задачу о кузнечике, прыгающем на 1 и 2. Модифицируем данную задачу, введя стоимости для каждого прыжка. Пусть стоимости будут различны для каждой точки и хранятся в массиве Cost, таким образом стоимость прыжка в точку i определяется значением Cost[i]. Найдите минимальную стоимость, за которую кузнечик может добраться из точки 0 до n, где n — длина массива Cost."
      ],
      "metadata": {
        "id": "IauQEcX2X0tX"
      }
    },
    {
      "cell_type": "code",
      "source": [
        "def min_cost_to_reach_n(Cost):\n",
        "    n = len(Cost)\n",
        "\n",
        "    min_cost = [0] * n\n",
        "\n",
        "    #min_cost[0] = Cost[0]\n",
        "\n",
        "    min_cost[1] = Cost[1]\n",
        "\n",
        "    for i in range(2, n):\n",
        "        min_cost[i] = Cost[i] + min(min_cost[i - 1], min_cost[i - 2])\n",
        "\n",
        "    return min_cost[-1]\n",
        "\n",
        "Cost = [1, 2, 5, 3, 7, 1]\n",
        "\n",
        "result = min_cost_to_reach_n(Cost)\n",
        "print(f\"Минимальная стоимость достижения точки n: {result}\")"
      ],
      "metadata": {
        "colab": {
          "base_uri": "https://localhost:8080/"
        },
        "id": "w3qy9InkbNwi",
        "outputId": "a1fe0952-9637-4fc8-ddb8-79112ff79e65"
      },
      "execution_count": null,
      "outputs": [
        {
          "output_type": "stream",
          "name": "stdout",
          "text": [
            "Минимальная стоимость достижения точки n: 6\n"
          ]
        }
      ]
    }
  ]
}
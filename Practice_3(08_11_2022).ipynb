{
  "nbformat": 4,
  "nbformat_minor": 0,
  "metadata": {
    "colab": {
      "provenance": [],
      "authorship_tag": "ABX9TyNzSwrsNDz7uUQW38s2zMgd",
      "include_colab_link": true
    },
    "kernelspec": {
      "name": "python3",
      "display_name": "Python 3"
    },
    "language_info": {
      "name": "python"
    }
  },
  "cells": [
    {
      "cell_type": "markdown",
      "metadata": {
        "id": "view-in-github",
        "colab_type": "text"
      },
      "source": [
        "<a href=\"https://colab.research.google.com/github/Kustarevvv/Practice/blob/main/Practice_3(08_11_2022).ipynb\" target=\"_parent\"><img src=\"https://colab.research.google.com/assets/colab-badge.svg\" alt=\"Open In Colab\"/></a>"
      ]
    },
    {
      "cell_type": "markdown",
      "source": [
        "1. Программа получает на вход две целочисленные переменные n и m. Создайте матрицу matrix размера n*m с нулевыми элементами и выведите ее на экран."
      ],
      "metadata": {
        "id": "nYX74eTl80S-"
      }
    },
    {
      "cell_type": "code",
      "source": [
        "N = 3\n",
        "M = 2\n",
        "A = [ [0]*M for i in range(N) ]\n",
        "print(A)"
      ],
      "metadata": {
        "id": "eV-NSwic9lHK",
        "colab": {
          "base_uri": "https://localhost:8080/"
        },
        "outputId": "994d6c33-4132-482f-df92-916d6dc75942"
      },
      "execution_count": null,
      "outputs": [
        {
          "output_type": "stream",
          "name": "stdout",
          "text": [
            "[[0, 0], [0, 0], [0, 0]]\n"
          ]
        }
      ]
    },
    {
      "cell_type": "markdown",
      "source": [
        "2. Программа получает на вход целочисленную переменную n. Создайте квадратную матрицу размера n*n, у которой значения всех элементов равны строке \"matrix\" и выведите ее на экран."
      ],
      "metadata": {
        "id": "qDFyDV0b910O"
      }
    },
    {
      "cell_type": "code",
      "source": [
        "N = 3\n",
        "A = [ ['matrix']*N for i in range(N) ]\n",
        "print(A)"
      ],
      "metadata": {
        "id": "Zp5e6IYb98GC",
        "colab": {
          "base_uri": "https://localhost:8080/"
        },
        "outputId": "5f330578-5b21-444b-ee8c-95c59e7a2809"
      },
      "execution_count": null,
      "outputs": [
        {
          "output_type": "stream",
          "name": "stdout",
          "text": [
            "[['matrix', 'matrix', 'matrix'], ['matrix', 'matrix', 'matrix'], ['matrix', 'matrix', 'matrix']]\n"
          ]
        }
      ]
    },
    {
      "cell_type": "markdown",
      "source": [
        "3. В программе задана матрица размера 5*5. На вход программы подаются две целочисленные переменные n и m со значениями из интервала [0,4]. Замените элемент данной матрицы на позиции [n][m] на 0. Выведите обновленную матрицу на экран."
      ],
      "metadata": {
        "id": "Oq1XDyQ9-g8S"
      }
    },
    {
      "cell_type": "code",
      "source": [
        "import random\n",
        "matrix = []\n",
        "x = 5\n",
        "n = random.randint(0,4)\n",
        "m = random.randint(0,4)\n",
        "A = [ [random.randint(0,100)]*x for i in range(x) ]\n",
        "print(A)\n",
        "A[n][m]= '0'\n",
        "print(A)"
      ],
      "metadata": {
        "id": "1CLROasQ-jpq",
        "colab": {
          "base_uri": "https://localhost:8080/"
        },
        "outputId": "6effece3-e526-49ff-95a3-2a9abdda1b65"
      },
      "execution_count": null,
      "outputs": [
        {
          "output_type": "stream",
          "name": "stdout",
          "text": [
            "[[14, 14, 14, 14, 14], [91, 91, 91, 91, 91], [72, 72, 72, 72, 72], [95, 95, 95, 95, 95], [11, 11, 11, 11, 11]]\n",
            "[[14, 14, 14, 14, 14], [91, 91, 91, 91, 91], [72, 72, 72, 72, 72], [95, 95, 95, 95, 95], [11, 11, '0', 11, 11]]\n"
          ]
        }
      ]
    },
    {
      "cell_type": "code",
      "source": [
        "import random\n",
        "N = 5\n",
        "n = random.randint(0,4)\n",
        "m = random.randint(0,4)\n",
        "matrix = []\n",
        "for j in range(N):\n",
        "  matrix.append([])\n",
        "\n",
        "for i in range(N):\n",
        "  for j in range(N):\n",
        "    g = random.randint(0,4)\n",
        "    matrix[i].append(g)\n",
        "matrix[n][m]='0'\n",
        "print(n, m)\n",
        "print(matrix)"
      ],
      "metadata": {
        "colab": {
          "base_uri": "https://localhost:8080/"
        },
        "id": "aUcLiaKMElG5",
        "outputId": "3d65e9c1-8145-4354-e699-80cd3c14283e"
      },
      "execution_count": null,
      "outputs": [
        {
          "output_type": "stream",
          "name": "stdout",
          "text": [
            "3 2\n",
            "[[0, 2, 1, 2, 0], [2, 4, 2, 0, 4], [0, 0, 3, 4, 4], [2, 2, '0', 1, 4], [3, 0, 0, 3, 0]]\n"
          ]
        }
      ]
    },
    {
      "cell_type": "markdown",
      "source": [
        "4. В программе задана матрица произвольного размера. Передайте на вход программы целочисленную переменную n и замените все элементы данной матрицы на n. Выведите обновленную матрицу на экран."
      ],
      "metadata": {
        "id": "SeQGJyQAC-Rh"
      }
    },
    {
      "cell_type": "code",
      "source": [
        "N = random.randint(1,10)\n",
        "A = [ [0]*N for i in range(N) ]\n",
        "for i in range(N):\n",
        "  for j in range (N):\n",
        "    A[i][j]='n'\n",
        "print(A)"
      ],
      "metadata": {
        "id": "xi0V-MonDBXJ",
        "colab": {
          "base_uri": "https://localhost:8080/"
        },
        "outputId": "f8da3a7f-bd34-4af8-a577-87673900c926"
      },
      "execution_count": null,
      "outputs": [
        {
          "output_type": "stream",
          "name": "stdout",
          "text": [
            "[['n', 'n', 'n'], ['n', 'n', 'n'], ['n', 'n', 'n']]\n"
          ]
        }
      ]
    },
    {
      "cell_type": "markdown",
      "source": [
        "5. В программе задана числовая матрица произвольного размера. Передайте на вход программы две целочисленные переменные n и m, а затем замените на m те элементы матрицы, которые больше n. Выведите обновленную матрицу на экран."
      ],
      "metadata": {
        "id": "Cd0Ar4y9EE7Z"
      }
    },
    {
      "cell_type": "code",
      "source": [
        "import random\n",
        "m = random.randint(1,10)\n",
        "n = random.randint(1,10)\n",
        "print('m =',m,'n =', n)\n",
        "\n",
        "N = random.randint(1,10)\n",
        "matrix = []\n",
        "for j in range(N):\n",
        "  matrix.append([])\n",
        "\n",
        "for i in range(N):\n",
        "  for g in range(N):\n",
        "    matrix[i].append(random.randint(1,10))\n",
        "\n",
        "print(matrix)\n",
        "\n",
        "for i in range(N):\n",
        "  for g in range(N):\n",
        "    if matrix[i][g]>n:\n",
        "      matrix[i][g]=m\n",
        "\n",
        "print(matrix)"
      ],
      "metadata": {
        "id": "8BJD0Z4BEIck",
        "colab": {
          "base_uri": "https://localhost:8080/"
        },
        "outputId": "e0561e46-fb6e-47f1-8196-d6c531594f8e"
      },
      "execution_count": null,
      "outputs": [
        {
          "output_type": "stream",
          "name": "stdout",
          "text": [
            "m = 3 n = 7\n",
            "[[7, 5, 2, 6, 6], [5, 2, 5, 7, 2], [4, 2, 1, 8, 4], [8, 5, 3, 6, 2], [8, 7, 5, 1, 2]]\n",
            "[[7, 5, 2, 6, 6], [5, 2, 5, 7, 2], [4, 2, 1, 3, 4], [3, 5, 3, 6, 2], [3, 7, 5, 1, 2]]\n"
          ]
        }
      ]
    },
    {
      "cell_type": "markdown",
      "source": [
        "6. Вам дается целое число n. Выведите матрицу размера nxn, в которой все элементы 0, кроме главной диагонали, на которой стоят 1. (Главная диагональ квадратной матрицы состоит из элементов с индексами i и j, в которых i=j. То есть это элементы с индексами 00, 11, 22 и т.д.)"
      ],
      "metadata": {
        "id": "4PZVHqtJanxe"
      }
    },
    {
      "cell_type": "code",
      "source": [
        "import random\n",
        "n = random.randint(1,10)\n",
        "\n",
        "matrix = [[1 if i == j else 0 for j in range(n)] for i in range(n)]\n",
        "\n",
        "print(matrix)"
      ],
      "metadata": {
        "id": "ECdjJwSsasAi",
        "colab": {
          "base_uri": "https://localhost:8080/"
        },
        "outputId": "3208e9c5-dd28-489b-8b7b-d54acb130fc6"
      },
      "execution_count": null,
      "outputs": [
        {
          "output_type": "stream",
          "name": "stdout",
          "text": [
            "[[1, 0, 0, 0, 0, 0, 0, 0, 0], [0, 1, 0, 0, 0, 0, 0, 0, 0], [0, 0, 1, 0, 0, 0, 0, 0, 0], [0, 0, 0, 1, 0, 0, 0, 0, 0], [0, 0, 0, 0, 1, 0, 0, 0, 0], [0, 0, 0, 0, 0, 1, 0, 0, 0], [0, 0, 0, 0, 0, 0, 1, 0, 0], [0, 0, 0, 0, 0, 0, 0, 1, 0], [0, 0, 0, 0, 0, 0, 0, 0, 1]]\n"
          ]
        }
      ]
    },
    {
      "cell_type": "markdown",
      "source": [
        "7. Необходимо раскрасить шахматную доску размера nхn в черный и белый цвета. Элемент с индексом [0][0] раскрасьте в белый цвет, а далее в шахматном порядке. Для обозначения черного цвета используйте символ \"b\", для обозначения белого цвета — символ \"w\"."
      ],
      "metadata": {
        "id": "epf89R1NfT3Y"
      }
    },
    {
      "cell_type": "code",
      "source": [
        "import random\n",
        "n = random.randint(1,6)\n",
        "\n",
        "matrix = []\n",
        "for j in range(n):\n",
        "  matrix.append([])\n",
        "\n",
        "for i in range(n):\n",
        "  for j in range(n):\n",
        "    if (i + j) % 2 == 0: matrix[i].append('w')\n",
        "    else: matrix[i].append('b')\n",
        "\n",
        "print(matrix)"
      ],
      "metadata": {
        "colab": {
          "base_uri": "https://localhost:8080/"
        },
        "id": "biPHWx8yfcnF",
        "outputId": "7132366b-40c7-4d5b-d148-52fa9afb80e6"
      },
      "execution_count": null,
      "outputs": [
        {
          "output_type": "stream",
          "name": "stdout",
          "text": [
            "[['w', 'b', 'w'], ['b', 'w', 'b'], ['w', 'b', 'w']]\n"
          ]
        }
      ]
    },
    {
      "cell_type": "markdown",
      "source": [
        "8. Выведите матрицу размера nхn с такими элементами: все значения, стоящие на обратной (побочной) диагонали, равны 1, остальные - 0. (Побочная диагональ квадратной матрицы размера nхn состоит из элементов с индексами ij, в которых i+j=n-1. То есть в данном случае это элементы с индексами 04, 13, 22, 31, 40.)"
      ],
      "metadata": {
        "id": "fTLBe-Zjh6so"
      }
    },
    {
      "cell_type": "code",
      "source": [
        "import random\n",
        "n = random.randint(1,10)\n",
        "\n",
        "matrix = [[1 if i+j==n-1 else 0 for j in range(n)] for i in range(n)]\n",
        "\n",
        "print(matrix)"
      ],
      "metadata": {
        "colab": {
          "base_uri": "https://localhost:8080/"
        },
        "id": "sYGtDxgWiAuc",
        "outputId": "3a5bb756-c28c-4f17-88f2-5b66b08d2887"
      },
      "execution_count": null,
      "outputs": [
        {
          "output_type": "stream",
          "name": "stdout",
          "text": [
            "[[0, 0, 1], [0, 1, 0], [1, 0, 0]]\n"
          ]
        }
      ]
    }
  ]
}
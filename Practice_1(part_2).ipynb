{
  "nbformat": 4,
  "nbformat_minor": 0,
  "metadata": {
    "colab": {
      "provenance": [],
      "authorship_tag": "ABX9TyMuTaBPrYpdR4AVJqSVahI8",
      "include_colab_link": true
    },
    "kernelspec": {
      "name": "python3",
      "display_name": "Python 3"
    },
    "language_info": {
      "name": "python"
    }
  },
  "cells": [
    {
      "cell_type": "markdown",
      "metadata": {
        "id": "view-in-github",
        "colab_type": "text"
      },
      "source": [
        "<a href=\"https://colab.research.google.com/github/Kustarevvv/Practice/blob/main/Practice_1(part_2).ipynb\" target=\"_parent\"><img src=\"https://colab.research.google.com/assets/colab-badge.svg\" alt=\"Open In Colab\"/></a>"
      ]
    },
    {
      "cell_type": "code",
      "execution_count": null,
      "metadata": {
        "colab": {
          "base_uri": "https://localhost:8080/"
        },
        "id": "uMPs5GXuLWYi",
        "outputId": "8c5a35a7-136b-4246-d3ec-9b3744d2e31a"
      },
      "outputs": [
        {
          "output_type": "stream",
          "name": "stdout",
          "text": [
            "10\n",
            "1\n"
          ]
        }
      ],
      "source": [
        "s = []\n",
        "for i in range(1,11):\n",
        "  s.append(i)\n",
        "print(max(s), min(s), sep = '\\n')"
      ]
    },
    {
      "cell_type": "markdown",
      "source": [
        "Найдите и выведите на экран сумму элементов целочисленного кортежа tup, сохранив ее в переменную tup_sum."
      ],
      "metadata": {
        "id": "ymdr561mL3T1"
      }
    },
    {
      "cell_type": "code",
      "source": [
        "tup = (1,2,3,4,5)\n",
        "tup_sum=sum(tup)\n",
        "print(tup_sum)"
      ],
      "metadata": {
        "colab": {
          "base_uri": "https://localhost:8080/"
        },
        "id": "8zPGgLz0L7qd",
        "outputId": "abebcb9d-6099-449d-d8f8-2aae20178e02"
      },
      "execution_count": null,
      "outputs": [
        {
          "output_type": "stream",
          "name": "stdout",
          "text": [
            "15\n"
          ]
        }
      ]
    },
    {
      "cell_type": "markdown",
      "source": [
        "Напишите программу, которая бы получала на вход строку со словами, преобразовывала ее в кортеж, затем получала еще 2 строки и составляла кортеж вида:\n",
        "\n",
        "<строка_1, введенный_кортеж, строка_2>"
      ],
      "metadata": {
        "id": "UmfZRPDvMOXG"
      }
    },
    {
      "cell_type": "code",
      "source": [
        "s = 'дом,мышка,лицо'\n",
        "t = tuple(str(item) for item in s.split(','))\n",
        "str1 = str(input())\n",
        "str2 = str(input())\n",
        "e = tuple(str1.split())+t+tuple(str2.split())\n",
        "print(e)"
      ],
      "metadata": {
        "colab": {
          "base_uri": "https://localhost:8080/"
        },
        "id": "HfOD2povMSJQ",
        "outputId": "3e41ef42-c347-4ff4-bc58-9b0f04f491c7"
      },
      "execution_count": null,
      "outputs": [
        {
          "output_type": "stream",
          "name": "stdout",
          "text": [
            "v\n",
            "ggg\n",
            "('v', 'дом', 'мышка', 'лицо', 'ggg')\n"
          ]
        }
      ]
    },
    {
      "cell_type": "markdown",
      "source": [
        "Напишите функцию slice_tup(), которая принимает на вход кортеж со строками и некоторый элемент, а возвращает кортеж, начиная с первого вхождения этого элемента и далее. Если элемента в кортеже нет, то возвращается исходный кортеж"
      ],
      "metadata": {
        "id": "SmDAIcEIOwZp"
      }
    },
    {
      "cell_type": "code",
      "source": [
        "t = ('a', 'b', 'c')\n",
        "e = 'b'\n",
        "def slice_tup(t,e):\n",
        "  if e not in t:\n",
        "    return(t)\n",
        "  for i in range(len(t)):\n",
        "    if t[i]==e:\n",
        "      return(t[i:])\n",
        "\n",
        "\n",
        "print(slice_tup(t,e))\n"
      ],
      "metadata": {
        "colab": {
          "base_uri": "https://localhost:8080/"
        },
        "id": "v3q9faazO7QE",
        "outputId": "23bda7ce-e51f-450f-e466-2e0738178438"
      },
      "execution_count": null,
      "outputs": [
        {
          "output_type": "stream",
          "name": "stdout",
          "text": [
            "('b', 'c')\n"
          ]
        }
      ]
    },
    {
      "cell_type": "markdown",
      "source": [
        ". Напишите функцию compress_sort_thin_out(), которая принимает на вход кортеж tup с числами и целое число n. Функция должна:\n",
        "\n",
        "· получить список элементов кортежа; отсортировать его;\n",
        "\n",
        "· удалить дубли (из повторяющихся значений оставить одно);\n",
        "\n",
        "· проредить итоговый список (взять элементы с шагом n). Результат функции compress_sort_thin_out() выведите на экран."
      ],
      "metadata": {
        "id": "B-pjgZ_GToOm"
      }
    },
    {
      "cell_type": "code",
      "source": [
        "t = (2,2,3,4,1)\n",
        "n = 2\n",
        "def compress_sort_thin_out(t,n):\n",
        "  end = len(t)\n",
        "  c = []\n",
        "  t = sorted(t)\n",
        "  print(t)\n",
        "  new = []\n",
        "  for i in range(end-1):\n",
        "    for x in range(i+1,end):\n",
        "      if t[i]==t[x]:\n",
        "        c.append(i)\n",
        "  for g in c:\n",
        "    t.remove(t[g])\n",
        "  print(t)\n",
        "  for j in range(0,len(t),2):\n",
        "    new.append(t[j])\n",
        "  return(new)\n",
        "print(compress_sort_thin_out(t,n))"
      ],
      "metadata": {
        "colab": {
          "base_uri": "https://localhost:8080/"
        },
        "id": "kqigtZcbTpA-",
        "outputId": "7d92095a-3a21-44b6-c0fd-ef6cf139032c"
      },
      "execution_count": null,
      "outputs": [
        {
          "output_type": "stream",
          "name": "stdout",
          "text": [
            "[1, 2, 2, 3, 4]\n",
            "[1, 2, 3, 4]\n",
            "[1, 3]\n"
          ]
        }
      ]
    },
    {
      "cell_type": "code",
      "source": [
        "t = (2,2,3,4,1)\n",
        "n = 2\n",
        "def compress_sort_thin_out(t,n):\n",
        "  new = []\n",
        "  t = sorted(t)\n",
        "  print(t)\n",
        "  h = list(set(t))\n",
        "  print(h)\n",
        "  for j in range(0,len(h),2):\n",
        "    new.append(h[j])\n",
        "  return(new)\n",
        "print(compress_sort_thin_out(t,n))"
      ],
      "metadata": {
        "colab": {
          "base_uri": "https://localhost:8080/"
        },
        "id": "kVXEpk7qZri1",
        "outputId": "1337ea82-e950-497b-b9bb-a962451f9017"
      },
      "execution_count": null,
      "outputs": [
        {
          "output_type": "stream",
          "name": "stdout",
          "text": [
            "[1, 2, 2, 3, 4]\n",
            "[1, 2, 3, 4]\n",
            "[1, 3]\n"
          ]
        }
      ]
    }
  ]
}